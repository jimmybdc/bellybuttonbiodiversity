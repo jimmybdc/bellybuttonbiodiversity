{
 "cells": [
  {
   "cell_type": "code",
   "execution_count": 1,
   "metadata": {
    "collapsed": true
   },
   "outputs": [],
   "source": [
    "# Python SQL toolkit and Object Relational Mapper\n",
    "import sqlalchemy\n",
    "from sqlalchemy.ext.automap import automap_base\n",
    "from sqlalchemy.orm import Session\n",
    "from sqlalchemy import create_engine"
   ]
  },
  {
   "cell_type": "code",
   "execution_count": 17,
   "metadata": {},
   "outputs": [
    {
     "data": {
      "text/plain": [
       "'/Users/jdelacruz/Documents/Class/10-30-2017-UCB-Class-Repository-DATA/02-Homework/15-Interactive-Visualizations-and-Dashboards/homeworktosubmit'"
      ]
     },
     "execution_count": 17,
     "metadata": {},
     "output_type": "execute_result"
    }
   ],
   "source": [
    "pwd"
   ]
  },
  {
   "cell_type": "code",
   "execution_count": 2,
   "metadata": {},
   "outputs": [
    {
     "name": "stdout",
     "output_type": "stream",
     "text": [
      "app.py                            sqlalchemy.ipynb\r\n",
      "belly_button_biodiversity.sqlite  \u001b[34mstatic\u001b[m\u001b[m/\r\n",
      "bigfoot.sqlite                    \u001b[34mtemplates\u001b[m\u001b[m/\r\n",
      "\u001b[34mdatasets\u001b[m\u001b[m/                         test.ipynb\r\n",
      "\u001b[34mdb\u001b[m\u001b[m/\r\n"
     ]
    }
   ],
   "source": [
    "ls"
   ]
  },
  {
   "cell_type": "code",
   "execution_count": 29,
   "metadata": {
    "collapsed": true
   },
   "outputs": [],
   "source": [
    "engine = create_engine(\"sqlite:///belly_button_biodiversity.sqlite\")"
   ]
  },
  {
   "cell_type": "code",
   "execution_count": 30,
   "metadata": {
    "collapsed": true
   },
   "outputs": [],
   "source": [
    "Base = automap_base()\n",
    "Base.prepare(engine, reflect=True)"
   ]
  },
  {
   "cell_type": "code",
   "execution_count": 31,
   "metadata": {},
   "outputs": [
    {
     "data": {
      "text/plain": [
       "['meta_data', 'otu', 'samples', 'samples_metadata']"
      ]
     },
     "execution_count": 31,
     "metadata": {},
     "output_type": "execute_result"
    }
   ],
   "source": [
    "Base.classes.keys()"
   ]
  },
  {
   "cell_type": "code",
   "execution_count": 32,
   "metadata": {
    "collapsed": true
   },
   "outputs": [],
   "source": [
    "SamplesMetaData = Base.classes.samples_metadata"
   ]
  },
  {
   "cell_type": "code",
   "execution_count": 33,
   "metadata": {
    "collapsed": true
   },
   "outputs": [],
   "source": [
    "session = Session(engine)"
   ]
  },
  {
   "cell_type": "code",
   "execution_count": 34,
   "metadata": {},
   "outputs": [
    {
     "data": {
      "text/plain": [
       "<sqlalchemy.orm.query.Query at 0x10f711400>"
      ]
     },
     "execution_count": 34,
     "metadata": {},
     "output_type": "execute_result"
    }
   ],
   "source": [
    "session.query(SamplesMetaData)"
   ]
  },
  {
   "cell_type": "code",
   "execution_count": 41,
   "metadata": {},
   "outputs": [
    {
     "data": {
      "text/plain": [
       "[<sqlalchemy.ext.automap.samples_metadata at 0x10f74c898>,\n",
       " <sqlalchemy.ext.automap.samples_metadata at 0x10f77a5f8>,\n",
       " <sqlalchemy.ext.automap.samples_metadata at 0x10f77a668>,\n",
       " <sqlalchemy.ext.automap.samples_metadata at 0x10f77a6d8>,\n",
       " <sqlalchemy.ext.automap.samples_metadata at 0x10f77a748>,\n",
       " <sqlalchemy.ext.automap.samples_metadata at 0x10f77a7b8>,\n",
       " <sqlalchemy.ext.automap.samples_metadata at 0x10f77a828>,\n",
       " <sqlalchemy.ext.automap.samples_metadata at 0x10f77a898>,\n",
       " <sqlalchemy.ext.automap.samples_metadata at 0x10f77a908>,\n",
       " <sqlalchemy.ext.automap.samples_metadata at 0x10f77a978>,\n",
       " <sqlalchemy.ext.automap.samples_metadata at 0x10f77a9e8>,\n",
       " <sqlalchemy.ext.automap.samples_metadata at 0x10f77aa58>,\n",
       " <sqlalchemy.ext.automap.samples_metadata at 0x10f77aac8>,\n",
       " <sqlalchemy.ext.automap.samples_metadata at 0x10f77ab38>,\n",
       " <sqlalchemy.ext.automap.samples_metadata at 0x10f77aba8>,\n",
       " <sqlalchemy.ext.automap.samples_metadata at 0x10f77ac18>,\n",
       " <sqlalchemy.ext.automap.samples_metadata at 0x10f77ac88>,\n",
       " <sqlalchemy.ext.automap.samples_metadata at 0x10f77acf8>,\n",
       " <sqlalchemy.ext.automap.samples_metadata at 0x10f77ad68>,\n",
       " <sqlalchemy.ext.automap.samples_metadata at 0x10f758128>,\n",
       " <sqlalchemy.ext.automap.samples_metadata at 0x10f7580b8>,\n",
       " <sqlalchemy.ext.automap.samples_metadata at 0x10f74cbe0>,\n",
       " <sqlalchemy.ext.automap.samples_metadata at 0x10f74c3c8>,\n",
       " <sqlalchemy.ext.automap.samples_metadata at 0x10f74cdd8>,\n",
       " <sqlalchemy.ext.automap.samples_metadata at 0x10f74cef0>,\n",
       " <sqlalchemy.ext.automap.samples_metadata at 0x10f74ca20>,\n",
       " <sqlalchemy.ext.automap.samples_metadata at 0x10f77add8>,\n",
       " <sqlalchemy.ext.automap.samples_metadata at 0x10f77ae48>,\n",
       " <sqlalchemy.ext.automap.samples_metadata at 0x10f77aeb8>,\n",
       " <sqlalchemy.ext.automap.samples_metadata at 0x10f77af28>,\n",
       " <sqlalchemy.ext.automap.samples_metadata at 0x10f77afd0>,\n",
       " <sqlalchemy.ext.automap.samples_metadata at 0x10f7800b8>,\n",
       " <sqlalchemy.ext.automap.samples_metadata at 0x10f780160>,\n",
       " <sqlalchemy.ext.automap.samples_metadata at 0x10f780208>,\n",
       " <sqlalchemy.ext.automap.samples_metadata at 0x10f7802b0>,\n",
       " <sqlalchemy.ext.automap.samples_metadata at 0x10f780358>,\n",
       " <sqlalchemy.ext.automap.samples_metadata at 0x10f780400>,\n",
       " <sqlalchemy.ext.automap.samples_metadata at 0x10f7804a8>,\n",
       " <sqlalchemy.ext.automap.samples_metadata at 0x10f780550>,\n",
       " <sqlalchemy.ext.automap.samples_metadata at 0x10f7805f8>,\n",
       " <sqlalchemy.ext.automap.samples_metadata at 0x10f7806a0>,\n",
       " <sqlalchemy.ext.automap.samples_metadata at 0x10f780748>,\n",
       " <sqlalchemy.ext.automap.samples_metadata at 0x10f7807f0>,\n",
       " <sqlalchemy.ext.automap.samples_metadata at 0x10f780898>,\n",
       " <sqlalchemy.ext.automap.samples_metadata at 0x10f780940>,\n",
       " <sqlalchemy.ext.automap.samples_metadata at 0x10f7809e8>,\n",
       " <sqlalchemy.ext.automap.samples_metadata at 0x10f780a90>,\n",
       " <sqlalchemy.ext.automap.samples_metadata at 0x10f780b38>,\n",
       " <sqlalchemy.ext.automap.samples_metadata at 0x10f780be0>,\n",
       " <sqlalchemy.ext.automap.samples_metadata at 0x10f780c88>,\n",
       " <sqlalchemy.ext.automap.samples_metadata at 0x10f780d30>,\n",
       " <sqlalchemy.ext.automap.samples_metadata at 0x10f780dd8>,\n",
       " <sqlalchemy.ext.automap.samples_metadata at 0x10f780e80>,\n",
       " <sqlalchemy.ext.automap.samples_metadata at 0x10f780f28>,\n",
       " <sqlalchemy.ext.automap.samples_metadata at 0x10f780fd0>,\n",
       " <sqlalchemy.ext.automap.samples_metadata at 0x10f7870b8>,\n",
       " <sqlalchemy.ext.automap.samples_metadata at 0x10f787160>,\n",
       " <sqlalchemy.ext.automap.samples_metadata at 0x10f787208>,\n",
       " <sqlalchemy.ext.automap.samples_metadata at 0x10f7872b0>,\n",
       " <sqlalchemy.ext.automap.samples_metadata at 0x10f787358>,\n",
       " <sqlalchemy.ext.automap.samples_metadata at 0x10f787400>,\n",
       " <sqlalchemy.ext.automap.samples_metadata at 0x10f7874a8>,\n",
       " <sqlalchemy.ext.automap.samples_metadata at 0x10f787550>,\n",
       " <sqlalchemy.ext.automap.samples_metadata at 0x10f7875f8>,\n",
       " <sqlalchemy.ext.automap.samples_metadata at 0x10f7876a0>,\n",
       " <sqlalchemy.ext.automap.samples_metadata at 0x10f787748>,\n",
       " <sqlalchemy.ext.automap.samples_metadata at 0x10f7877f0>,\n",
       " <sqlalchemy.ext.automap.samples_metadata at 0x10f787898>,\n",
       " <sqlalchemy.ext.automap.samples_metadata at 0x10f787940>,\n",
       " <sqlalchemy.ext.automap.samples_metadata at 0x10f7879e8>,\n",
       " <sqlalchemy.ext.automap.samples_metadata at 0x10f787a90>,\n",
       " <sqlalchemy.ext.automap.samples_metadata at 0x10f787b38>,\n",
       " <sqlalchemy.ext.automap.samples_metadata at 0x10f787be0>,\n",
       " <sqlalchemy.ext.automap.samples_metadata at 0x10f787c88>,\n",
       " <sqlalchemy.ext.automap.samples_metadata at 0x10f787d30>,\n",
       " <sqlalchemy.ext.automap.samples_metadata at 0x10f787dd8>,\n",
       " <sqlalchemy.ext.automap.samples_metadata at 0x10f787e80>,\n",
       " <sqlalchemy.ext.automap.samples_metadata at 0x10f787f28>,\n",
       " <sqlalchemy.ext.automap.samples_metadata at 0x10f787fd0>,\n",
       " <sqlalchemy.ext.automap.samples_metadata at 0x10f78c0b8>,\n",
       " <sqlalchemy.ext.automap.samples_metadata at 0x10f78c160>,\n",
       " <sqlalchemy.ext.automap.samples_metadata at 0x10f78c208>,\n",
       " <sqlalchemy.ext.automap.samples_metadata at 0x10f78c2b0>,\n",
       " <sqlalchemy.ext.automap.samples_metadata at 0x10f78c358>,\n",
       " <sqlalchemy.ext.automap.samples_metadata at 0x10f78c400>,\n",
       " <sqlalchemy.ext.automap.samples_metadata at 0x10f78c4a8>,\n",
       " <sqlalchemy.ext.automap.samples_metadata at 0x10f78c550>,\n",
       " <sqlalchemy.ext.automap.samples_metadata at 0x10f78c5f8>,\n",
       " <sqlalchemy.ext.automap.samples_metadata at 0x10f78c6a0>,\n",
       " <sqlalchemy.ext.automap.samples_metadata at 0x10f78c748>,\n",
       " <sqlalchemy.ext.automap.samples_metadata at 0x10f78c7f0>,\n",
       " <sqlalchemy.ext.automap.samples_metadata at 0x10f78c898>,\n",
       " <sqlalchemy.ext.automap.samples_metadata at 0x10f78c940>,\n",
       " <sqlalchemy.ext.automap.samples_metadata at 0x10f78c9e8>,\n",
       " <sqlalchemy.ext.automap.samples_metadata at 0x10f78ca90>,\n",
       " <sqlalchemy.ext.automap.samples_metadata at 0x10f78cb38>,\n",
       " <sqlalchemy.ext.automap.samples_metadata at 0x10f78cbe0>,\n",
       " <sqlalchemy.ext.automap.samples_metadata at 0x10f78cc88>,\n",
       " <sqlalchemy.ext.automap.samples_metadata at 0x10f78cd30>,\n",
       " <sqlalchemy.ext.automap.samples_metadata at 0x10f78cdd8>,\n",
       " <sqlalchemy.ext.automap.samples_metadata at 0x10f78ce80>,\n",
       " <sqlalchemy.ext.automap.samples_metadata at 0x10f78cf28>,\n",
       " <sqlalchemy.ext.automap.samples_metadata at 0x10f78cfd0>,\n",
       " <sqlalchemy.ext.automap.samples_metadata at 0x10f7910b8>,\n",
       " <sqlalchemy.ext.automap.samples_metadata at 0x10f791160>,\n",
       " <sqlalchemy.ext.automap.samples_metadata at 0x10f791208>,\n",
       " <sqlalchemy.ext.automap.samples_metadata at 0x10f7912b0>,\n",
       " <sqlalchemy.ext.automap.samples_metadata at 0x10f791358>,\n",
       " <sqlalchemy.ext.automap.samples_metadata at 0x10f791400>,\n",
       " <sqlalchemy.ext.automap.samples_metadata at 0x10f7914a8>,\n",
       " <sqlalchemy.ext.automap.samples_metadata at 0x10f791550>,\n",
       " <sqlalchemy.ext.automap.samples_metadata at 0x10f7915f8>,\n",
       " <sqlalchemy.ext.automap.samples_metadata at 0x10f7916a0>,\n",
       " <sqlalchemy.ext.automap.samples_metadata at 0x10f791748>,\n",
       " <sqlalchemy.ext.automap.samples_metadata at 0x10f7917f0>,\n",
       " <sqlalchemy.ext.automap.samples_metadata at 0x10f791898>,\n",
       " <sqlalchemy.ext.automap.samples_metadata at 0x10f791940>,\n",
       " <sqlalchemy.ext.automap.samples_metadata at 0x10f7919e8>,\n",
       " <sqlalchemy.ext.automap.samples_metadata at 0x10f791a90>,\n",
       " <sqlalchemy.ext.automap.samples_metadata at 0x10f791b38>,\n",
       " <sqlalchemy.ext.automap.samples_metadata at 0x10f791be0>,\n",
       " <sqlalchemy.ext.automap.samples_metadata at 0x10f791c88>,\n",
       " <sqlalchemy.ext.automap.samples_metadata at 0x10f791d30>,\n",
       " <sqlalchemy.ext.automap.samples_metadata at 0x10f791dd8>,\n",
       " <sqlalchemy.ext.automap.samples_metadata at 0x10f791e80>,\n",
       " <sqlalchemy.ext.automap.samples_metadata at 0x10f791f28>,\n",
       " <sqlalchemy.ext.automap.samples_metadata at 0x10f791fd0>,\n",
       " <sqlalchemy.ext.automap.samples_metadata at 0x10f7990b8>,\n",
       " <sqlalchemy.ext.automap.samples_metadata at 0x10f799160>,\n",
       " <sqlalchemy.ext.automap.samples_metadata at 0x10f799208>,\n",
       " <sqlalchemy.ext.automap.samples_metadata at 0x10f7992b0>,\n",
       " <sqlalchemy.ext.automap.samples_metadata at 0x10f799358>,\n",
       " <sqlalchemy.ext.automap.samples_metadata at 0x10f799400>,\n",
       " <sqlalchemy.ext.automap.samples_metadata at 0x10f7994a8>,\n",
       " <sqlalchemy.ext.automap.samples_metadata at 0x10f799550>,\n",
       " <sqlalchemy.ext.automap.samples_metadata at 0x10f7995f8>,\n",
       " <sqlalchemy.ext.automap.samples_metadata at 0x10f7996a0>,\n",
       " <sqlalchemy.ext.automap.samples_metadata at 0x10f799748>,\n",
       " <sqlalchemy.ext.automap.samples_metadata at 0x10f7997f0>,\n",
       " <sqlalchemy.ext.automap.samples_metadata at 0x10f799898>,\n",
       " <sqlalchemy.ext.automap.samples_metadata at 0x10f799940>,\n",
       " <sqlalchemy.ext.automap.samples_metadata at 0x10f7999e8>,\n",
       " <sqlalchemy.ext.automap.samples_metadata at 0x10f799a90>,\n",
       " <sqlalchemy.ext.automap.samples_metadata at 0x10f799b38>,\n",
       " <sqlalchemy.ext.automap.samples_metadata at 0x10f799be0>,\n",
       " <sqlalchemy.ext.automap.samples_metadata at 0x10f799c88>,\n",
       " <sqlalchemy.ext.automap.samples_metadata at 0x10f799d30>,\n",
       " <sqlalchemy.ext.automap.samples_metadata at 0x10f799dd8>,\n",
       " <sqlalchemy.ext.automap.samples_metadata at 0x10f799e80>,\n",
       " <sqlalchemy.ext.automap.samples_metadata at 0x10f799f28>,\n",
       " <sqlalchemy.ext.automap.samples_metadata at 0x10f799fd0>,\n",
       " <sqlalchemy.ext.automap.samples_metadata at 0x10f79f0b8>,\n",
       " <sqlalchemy.ext.automap.samples_metadata at 0x10f79f160>]"
      ]
     },
     "execution_count": 41,
     "metadata": {},
     "output_type": "execute_result"
    }
   ],
   "source": [
    "session.query(SamplesMetaData).all()"
   ]
  },
  {
   "cell_type": "code",
   "execution_count": 45,
   "metadata": {},
   "outputs": [],
   "source": [
    "first = session.query(SamplesMetaData).first()"
   ]
  },
  {
   "cell_type": "code",
   "execution_count": 46,
   "metadata": {},
   "outputs": [
    {
     "data": {
      "text/plain": [
       "<sqlalchemy.ext.automap.samples_metadata at 0x10f74c898>"
      ]
     },
     "execution_count": 46,
     "metadata": {},
     "output_type": "execute_result"
    }
   ],
   "source": [
    "first"
   ]
  },
  {
   "cell_type": "code",
   "execution_count": 47,
   "metadata": {},
   "outputs": [
    {
     "data": {
      "text/plain": [
       "{'AGE': 24,\n",
       " 'BBTYPE': 'I',\n",
       " 'CAT': 'no',\n",
       " 'COUNTRY012': 'usa',\n",
       " 'COUNTRY1319': 'usa',\n",
       " 'DOG': 'no',\n",
       " 'ETHNICITY': 'Caucasian',\n",
       " 'EVENT': 'BellyButtonsScienceOnline',\n",
       " 'GENDER': 'F',\n",
       " 'IMPSURFACE013': 8852,\n",
       " 'IMPSURFACE1319': 1,\n",
       " 'LOCATION': 'Beaufort/NC',\n",
       " 'MMAXTEMP013': 54.5,\n",
       " 'MMAXTEMP1319': 33.99000168,\n",
       " 'NPP013': 37.17222214,\n",
       " 'NPP1319': 0.0,\n",
       " 'PFC013': 0.0,\n",
       " 'PFC1319': 25.5,\n",
       " 'SAMPLEID': 940,\n",
       " 'WFREQ': 2,\n",
       " 'ZIP012': 22306,\n",
       " 'ZIP1319': 22306,\n",
       " '_sa_instance_state': <sqlalchemy.orm.state.InstanceState at 0x10f74c8d0>}"
      ]
     },
     "execution_count": 47,
     "metadata": {},
     "output_type": "execute_result"
    }
   ],
   "source": [
    "vars(first)"
   ]
  },
  {
   "cell_type": "code",
   "execution_count": null,
   "metadata": {
    "collapsed": true
   },
   "outputs": [],
   "source": []
  }
 ],
 "metadata": {
  "kernelspec": {
   "display_name": "Python 3",
   "language": "python",
   "name": "python3"
  },
  "language_info": {
   "codemirror_mode": {
    "name": "ipython",
    "version": 3
   },
   "file_extension": ".py",
   "mimetype": "text/x-python",
   "name": "python",
   "nbconvert_exporter": "python",
   "pygments_lexer": "ipython3",
   "version": "3.6.2"
  }
 },
 "nbformat": 4,
 "nbformat_minor": 2
}
